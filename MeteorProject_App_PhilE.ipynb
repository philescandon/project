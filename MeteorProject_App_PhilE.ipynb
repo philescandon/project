{
  "nbformat": 4,
  "nbformat_minor": 0,
  "metadata": {
    "jupytext": {
      "split_at_heading": true
    },
    "kernelspec": {
      "display_name": "Python 3",
      "language": "python",
      "name": "python3"
    },
    "colab": {
      "name": "MeteorProject_App_PhilE.ipynb",
      "provenance": [],
      "collapsed_sections": [],
      "include_colab_link": true
    },
    "accelerator": "GPU"
  },
  "cells": [
    {
      "cell_type": "markdown",
      "metadata": {
        "id": "view-in-github",
        "colab_type": "text"
      },
      "source": [
        "<a href=\"https://colab.research.google.com/github/philescandon/project/blob/main/MeteorProject_App_PhilE.ipynb\" target=\"_parent\"><img src=\"https://colab.research.google.com/assets/colab-badge.svg\" alt=\"Open In Colab\"/></a>"
      ]
    },
    {
      "cell_type": "markdown",
      "metadata": {
        "id": "76OQq6IlhjYQ"
      },
      "source": [
        "# CS 677 S02 2021 Final Project\n",
        "Phillip Escandon Escandon@bu.edu  \n",
        "Professor Pinsky    \n",
        "Facilitator: Mohammand Alaghemandi  \n",
        "**Final Project**  \n",
        "April, 2021\n",
        "\n",
        "\n",
        "# Meteor Classification Binder App\n",
        "This project is a cumulation of a learning path that began last winter - when I listened to a [podcast](https://talkpython.fm/episodes/show/280/python-and-ai-in-journalism) about AI Bots used for Journalism.  \n",
        "\n",
        "This led to [John Keefe](https://johnkeefe.net/ai-classes-for-journalists) and his cool projects.  He's a journalist that knows machine learning.  He was using a framework called **fastai**.  So I decided to pull on that thread a little and found **[Jeremy Howard](https://www.fast.ai/)** and his Data Science Institute at the University of San Franscisco. \n",
        "\n",
        "\n",
        "He has a unique approach to teaching and learning, which is very top-down, which is opposite our traditional learning experience. He uses [Jupyter Notebooks](https://www.fast.ai/2019/12/02/nbdev/) almost exclusively for coding, testing and integration into Github - things that have been missing for a long long time.\n",
        "\n",
        "## Problem: Hunting for Meteors - Night Photography as a hobby\n",
        "I have an entry level prosumer digital camera - and I can program the camera to take images for hours on end.  The problem is filtering through the images - sometimes almost a thousand - to find a photo containing the meteor.\n",
        "\n",
        "**What I need is a program that can detect /CLASSIFY an image.  It should tell me if it containing a meteor or is simply the night sky**\n",
        "\n",
        "\n",
        "\n"
      ]
    },
    {
      "cell_type": "markdown",
      "metadata": {
        "id": "EakBuuJ9AsqR"
      },
      "source": [
        "I renamed this file meteorProject64.pkl in my google drive."
      ]
    },
    {
      "cell_type": "code",
      "metadata": {
        "id": "hd1RZ833hime"
      },
      "source": [
        "from fastai.vision.all import *\n",
        "from fastai.vision.widgets import *\n",
        "\n"
      ],
      "execution_count": null,
      "outputs": []
    },
    {
      "cell_type": "code",
      "metadata": {
        "id": "qD_ttYOYAsqR"
      },
      "source": [
        "\n",
        "path = Path()\n",
        "learn_inf = load_learner(path/'meteorProjectModel.pkl', cpu=True)\n",
        "btn_upload = widgets.FileUpload()\n",
        "out_pl = widgets.Output()\n",
        "lbl_pred = widgets.Label()\n",
        "\n",
        "\n",
        "# learn_inf = load_learner('/content/drive/MyDrive/meteorProject/meteorProject64.pkl')\n",
        "# learn_inf = load_learner('/content/drive/MyDrive/night/meteorProjectModel.pkl')"
      ],
      "execution_count": null,
      "outputs": []
    },
    {
      "cell_type": "code",
      "metadata": {
        "id": "SqBCaX_4h3wf"
      },
      "source": [
        "def on_data_change(change):\n",
        "    lbl_pred.value = ''\n",
        "    img = PILImage.create(btn_upload.data[-1])\n",
        "    out_pl.clear_output()\n",
        "    with out_pl: display(img.to_thumb(128,128))\n",
        "    pred,pred_idx,probs = learn_inf.predict(img)\n",
        "    lbl_pred.value = f'Prediction: {pred}; Probability: {probs[pred_idx]:.04f}'"
      ],
      "execution_count": null,
      "outputs": []
    },
    {
      "cell_type": "code",
      "metadata": {
        "id": "pvo6dMd4h4uB"
      },
      "source": [
        "btn_upload.observe(on_data_change, names=['data'])"
      ],
      "execution_count": null,
      "outputs": []
    },
    {
      "cell_type": "code",
      "metadata": {
        "id": "3_zw-h5ph42J"
      },
      "source": [
        "display(VBox([widgets.Label('Select your image'), btn_upload, out_pl, lbl_pred]))"
      ],
      "execution_count": null,
      "outputs": []
    },
    {
      "cell_type": "code",
      "metadata": {
        "id": "_vccIFTth48j"
      },
      "source": [
        ""
      ],
      "execution_count": null,
      "outputs": []
    },
    {
      "cell_type": "code",
      "metadata": {
        "id": "5lt8AsMF5OhL"
      },
      "source": [
        ""
      ],
      "execution_count": null,
      "outputs": []
    }
  ]
}